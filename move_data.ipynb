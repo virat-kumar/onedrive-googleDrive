{
 "cells": [
  {
   "cell_type": "code",
   "execution_count": 1,
   "metadata": {},
   "outputs": [],
   "source": [
    "import os\n",
    "import shutil\n",
    "from datetime import datetime\n"
   ]
  },
  {
   "cell_type": "code",
   "execution_count": 1,
   "metadata": {},
   "outputs": [
    {
     "name": "stdout",
     "output_type": "stream",
     "text": [
      "Files have been rearranged into year-based folders.\n"
     ]
    }
   ],
   "source": [
    "from pathlib import Path\n",
    "from datetime import datetime\n",
    "import shutil\n",
    "\n",
    "def rearrange_files_by_year(input_folder):\n",
    "    input_path = Path(input_folder)\n",
    "    processed_data_path = input_path / 'processed_data'\n",
    "    \n",
    "    # Create the processed_data folder if it doesn't exist\n",
    "    processed_data_path.mkdir(exist_ok=True)\n",
    "    \n",
    "    # Traverse all files in the directory and its subdirectories\n",
    "    for file_path in input_path.rglob('*'):\n",
    "        # Ignore directories and the processed_data directory\n",
    "        if file_path.is_dir() or processed_data_path in file_path.parents:\n",
    "            continue\n",
    "        \n",
    "        # Get the last modification year of the file\n",
    "        mod_time = file_path.stat().st_mtime\n",
    "        year = datetime.fromtimestamp(mod_time).strftime('%Y')\n",
    "        \n",
    "        # Create a year directory inside processed_data if it doesn't exist\n",
    "        year_path = processed_data_path / year\n",
    "        year_path.mkdir(exist_ok=True)\n",
    "        \n",
    "        # Move the file to the year directory\n",
    "        target_path = year_path / file_path.name\n",
    "        try: \n",
    "            shutil.copy(str(file_path), str(target_path))\n",
    "        except Exception as e:\n",
    "            print(file_path, str(e))\n",
    "    \n",
    "    print(\"Files have been rearranged into year-based folders.\")\n",
    "\n",
    "# Example usage:\n",
    "# Replace 'your_folder_path_here' with the actual path of the folder you want to organize\n",
    "input_folder_path = 'Raw_data'\n",
    "rearrange_files_by_year(input_folder_path)\n"
   ]
  },
  {
   "cell_type": "code",
   "execution_count": null,
   "metadata": {},
   "outputs": [],
   "source": []
  }
 ],
 "metadata": {
  "kernelspec": {
   "display_name": "Python 3",
   "language": "python",
   "name": "python3"
  },
  "language_info": {
   "codemirror_mode": {
    "name": "ipython",
    "version": 3
   },
   "file_extension": ".py",
   "mimetype": "text/x-python",
   "name": "python",
   "nbconvert_exporter": "python",
   "pygments_lexer": "ipython3",
   "version": "3.10.11"
  }
 },
 "nbformat": 4,
 "nbformat_minor": 2
}
